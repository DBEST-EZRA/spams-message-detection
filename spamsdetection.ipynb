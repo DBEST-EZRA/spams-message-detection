{
 "cells": [
  {
   "cell_type": "code",
   "execution_count": 23,
   "id": "1bde1873-ac99-4deb-b54a-5139e40e024b",
   "metadata": {},
   "outputs": [],
   "source": [
    "import pandas as pd\n",
    "import matplotlib.pyplot as plt\n",
    "from sklearn.model_selection import train_test_split\n",
    "from sklearn.feature_extraction.text import TfidfVectorizer\n",
    "from sklearn.preprocessing import LabelEncoder\n",
    "from sklearn.linear_model import LogisticRegression\n",
    "from sklearn.metrics import classification_report, accuracy_score"
   ]
  },
  {
   "cell_type": "code",
   "execution_count": 2,
   "id": "e96d66ae-bd68-49bd-a5a5-8663fc4e67ed",
   "metadata": {},
   "outputs": [
    {
     "data": {
      "text/html": [
       "<div>\n",
       "<style scoped>\n",
       "    .dataframe tbody tr th:only-of-type {\n",
       "        vertical-align: middle;\n",
       "    }\n",
       "\n",
       "    .dataframe tbody tr th {\n",
       "        vertical-align: top;\n",
       "    }\n",
       "\n",
       "    .dataframe thead th {\n",
       "        text-align: right;\n",
       "    }\n",
       "</style>\n",
       "<table border=\"1\" class=\"dataframe\">\n",
       "  <thead>\n",
       "    <tr style=\"text-align: right;\">\n",
       "      <th></th>\n",
       "      <th>Class</th>\n",
       "      <th>Message</th>\n",
       "    </tr>\n",
       "  </thead>\n",
       "  <tbody>\n",
       "    <tr>\n",
       "      <th>0</th>\n",
       "      <td>ham</td>\n",
       "      <td>Go until jurong point, crazy.. Available only ...</td>\n",
       "    </tr>\n",
       "    <tr>\n",
       "      <th>1</th>\n",
       "      <td>ham</td>\n",
       "      <td>Ok lar... Joking wif u oni...</td>\n",
       "    </tr>\n",
       "    <tr>\n",
       "      <th>2</th>\n",
       "      <td>spam</td>\n",
       "      <td>Free entry in 2 a wkly comp to win FA Cup fina...</td>\n",
       "    </tr>\n",
       "    <tr>\n",
       "      <th>3</th>\n",
       "      <td>ham</td>\n",
       "      <td>U dun say so early hor... U c already then say...</td>\n",
       "    </tr>\n",
       "    <tr>\n",
       "      <th>4</th>\n",
       "      <td>ham</td>\n",
       "      <td>Nah I don't think he goes to usf, he lives aro...</td>\n",
       "    </tr>\n",
       "  </tbody>\n",
       "</table>\n",
       "</div>"
      ],
      "text/plain": [
       "  Class                                            Message\n",
       "0   ham  Go until jurong point, crazy.. Available only ...\n",
       "1   ham                      Ok lar... Joking wif u oni...\n",
       "2  spam  Free entry in 2 a wkly comp to win FA Cup fina...\n",
       "3   ham  U dun say so early hor... U c already then say...\n",
       "4   ham  Nah I don't think he goes to usf, he lives aro..."
      ]
     },
     "execution_count": 2,
     "metadata": {},
     "output_type": "execute_result"
    }
   ],
   "source": [
    "df = pd.read_csv(\"Spam_SMS.csv\")\n",
    "df.head()"
   ]
  },
  {
   "cell_type": "code",
   "execution_count": 3,
   "id": "fc10f2d7-2c23-40e8-a827-1d9a23e2ed02",
   "metadata": {},
   "outputs": [
    {
     "name": "stdout",
     "output_type": "stream",
     "text": [
      "(5574, 2)\n"
     ]
    }
   ],
   "source": [
    "print(df.shape)"
   ]
  },
  {
   "cell_type": "code",
   "execution_count": 7,
   "id": "740ef648-d309-4638-9ac4-9cc407d2a264",
   "metadata": {},
   "outputs": [
    {
     "name": "stdout",
     "output_type": "stream",
     "text": [
      "Class      object\n",
      "Message    object\n",
      "dtype: object\n"
     ]
    }
   ],
   "source": [
    "# checking data types of the columns\n",
    "print(df.dtypes)"
   ]
  },
  {
   "cell_type": "code",
   "execution_count": 6,
   "id": "de62eb39-3d88-427a-9be8-d9adbbfcd592",
   "metadata": {},
   "outputs": [
    {
     "name": "stdout",
     "output_type": "stream",
     "text": [
      "415\n"
     ]
    }
   ],
   "source": [
    "# Checking for duplicate data\n",
    "duplicate_data = df.duplicated().sum()\n",
    "print(duplicate_data)"
   ]
  },
  {
   "cell_type": "code",
   "execution_count": 9,
   "id": "66352726-5c16-4c80-8a50-70ee1b04a34f",
   "metadata": {},
   "outputs": [],
   "source": [
    "df = df.drop_duplicates()"
   ]
  },
  {
   "cell_type": "code",
   "execution_count": 10,
   "id": "30ef68b5-c744-408a-9b8d-01c3da9b2a22",
   "metadata": {},
   "outputs": [
    {
     "name": "stdout",
     "output_type": "stream",
     "text": [
      "0\n"
     ]
    }
   ],
   "source": [
    "# Checking for duplicate data\n",
    "duplicate_data = df.duplicated().sum()\n",
    "print(duplicate_data)"
   ]
  },
  {
   "cell_type": "code",
   "execution_count": 8,
   "id": "721d3e39-0da0-4f1a-8c38-1f8a8fc0acb8",
   "metadata": {},
   "outputs": [
    {
     "name": "stdout",
     "output_type": "stream",
     "text": [
      "Class      0\n",
      "Message    0\n",
      "dtype: int64\n"
     ]
    }
   ],
   "source": [
    "# check for missing values\n",
    "missing_val = df.isnull().sum()\n",
    "print(missing_val)"
   ]
  },
  {
   "cell_type": "code",
   "execution_count": 16,
   "id": "61c7936d-3afd-4d04-83b6-5e6b92d0e44a",
   "metadata": {},
   "outputs": [],
   "source": [
    "# Tokenization and stopword removal using TfidfVectorizer\n",
    "vectorizer = TfidfVectorizer(stop_words='english')\n",
    "X = vectorizer.fit_transform(df['Message'])\n",
    "\n",
    "# Label Encoding for 'ham' and 'spam'\n",
    "label_encoder = LabelEncoder()\n",
    "y = label_encoder.fit_transform(df['Class'])"
   ]
  },
  {
   "cell_type": "code",
   "execution_count": 19,
   "id": "8bfa1277-da35-48db-9638-ebb010597bfe",
   "metadata": {},
   "outputs": [],
   "source": [
    "X_train, X_test, y_train, y_test = train_test_split(X, y, test_size=0.1, random_state=42)"
   ]
  },
  {
   "cell_type": "code",
   "execution_count": 21,
   "id": "093b3ad4-0ccf-41f1-b893-6b81e4b0a0c1",
   "metadata": {},
   "outputs": [],
   "source": [
    "# Initialize model\n",
    "logistic_model = LogisticRegression()\n",
    "\n",
    "# Train model\n",
    "logistic_model.fit(X_train, y_train)\n",
    "\n",
    "# Make predictions\n",
    "logistic_predictions = logistic_model.predict(X_test)"
   ]
  },
  {
   "cell_type": "code",
   "execution_count": 24,
   "id": "7cfcf584-8cec-4356-bb91-d3749f2714e9",
   "metadata": {},
   "outputs": [
    {
     "name": "stdout",
     "output_type": "stream",
     "text": [
      "Logistic Regression:\n",
      "              precision    recall  f1-score   support\n",
      "\n",
      "           0       0.97      1.00      0.99       465\n",
      "           1       0.97      0.75      0.84        51\n",
      "\n",
      "    accuracy                           0.97       516\n",
      "   macro avg       0.97      0.87      0.91       516\n",
      "weighted avg       0.97      0.97      0.97       516\n",
      "\n",
      "Accuracy: 0.9728682170542635\n"
     ]
    }
   ],
   "source": [
    "# Evaluate model\n",
    "print(\"Logistic Regression:\")\n",
    "print(classification_report(y_test, logistic_predictions))\n",
    "print(\"Accuracy:\", accuracy_score(y_test, logistic_predictions))"
   ]
  },
  {
   "cell_type": "code",
   "execution_count": 25,
   "id": "a3a3cb0b-9a98-479e-aeb5-068131944d63",
   "metadata": {},
   "outputs": [
    {
     "name": "stdin",
     "output_type": "stream",
     "text": [
      "Enter a message to classify as 'ham' or 'spam':  Congratulations! You’ve been selected to win a free iPhone! Click the link to claim your prize now: [link]. Hurry, offer ends soon!\n"
     ]
    },
    {
     "name": "stdout",
     "output_type": "stream",
     "text": [
      "The message is: spam\n"
     ]
    }
   ],
   "source": [
    "def predict_message(message):\n",
    "    # Preprocess the input message\n",
    "    message_transformed = vectorizer.transform([message])\n",
    "\n",
    "    # Predict using the trained Logistic Regression model\n",
    "    prediction = logistic_model.predict(message_transformed)\n",
    "\n",
    "    # Convert the numerical prediction back to \"ham\" or \"spam\"\n",
    "    if prediction == 0:\n",
    "        return \"ham\"\n",
    "    else:\n",
    "        return \"spam\"\n",
    "\n",
    "# Test the model with user input\n",
    "user_message = input(\"Enter a message to classify as 'ham' or 'spam': \")\n",
    "print(f'The message is: {predict_message(user_message)}')\n"
   ]
  },
  {
   "cell_type": "code",
   "execution_count": 26,
   "id": "3557a57d-fc5a-4290-864b-40da8d20abb0",
   "metadata": {},
   "outputs": [
    {
     "data": {
      "text/plain": [
       "['vectorizer.pkl']"
      ]
     },
     "execution_count": 26,
     "metadata": {},
     "output_type": "execute_result"
    }
   ],
   "source": [
    "import joblib\n",
    "\n",
    "# Save the trained Logistic Regression model\n",
    "joblib.dump(logistic_model, 'spam_classifier_model.pkl')\n",
    "\n",
    "# Save the vectorizer\n",
    "joblib.dump(vectorizer, 'vectorizer.pkl')\n"
   ]
  },
  {
   "cell_type": "code",
   "execution_count": null,
   "id": "4bd13a5e-1cdc-49bd-b2b5-dc5c32da73c2",
   "metadata": {},
   "outputs": [
    {
     "name": "stdin",
     "output_type": "stream",
     "text": [
      "Enter a message to classify as 'ham' or 'spam' (type 'exit' to quit):  hello\n"
     ]
    },
    {
     "name": "stdout",
     "output_type": "stream",
     "text": [
      "The message is: ham\n"
     ]
    },
    {
     "name": "stdin",
     "output_type": "stream",
     "text": [
      "Enter a message to classify as 'ham' or 'spam' (type 'exit' to quit):  Claim your $1000 gift card now! Click here to redeem.\n"
     ]
    },
    {
     "name": "stdout",
     "output_type": "stream",
     "text": [
      "The message is: spam\n"
     ]
    },
    {
     "name": "stdin",
     "output_type": "stream",
     "text": [
      "Enter a message to classify as 'ham' or 'spam' (type 'exit' to quit):  You’ve won a free vacation! Call now to claim your prize\n"
     ]
    },
    {
     "name": "stdout",
     "output_type": "stream",
     "text": [
      "The message is: spam\n"
     ]
    },
    {
     "name": "stdin",
     "output_type": "stream",
     "text": [
      "Enter a message to classify as 'ham' or 'spam' (type 'exit' to quit):  URGENT: Your account has been compromised. Click here to reset your password\n"
     ]
    },
    {
     "name": "stdout",
     "output_type": "stream",
     "text": [
      "The message is: ham\n"
     ]
    },
    {
     "name": "stdin",
     "output_type": "stream",
     "text": [
      "Enter a message to classify as 'ham' or 'spam' (type 'exit' to quit):  Limited offer! Get a loan with zero interest. Apply now!\n"
     ]
    },
    {
     "name": "stdout",
     "output_type": "stream",
     "text": [
      "The message is: ham\n"
     ]
    },
    {
     "name": "stdin",
     "output_type": "stream",
     "text": [
      "Enter a message to classify as 'ham' or 'spam' (type 'exit' to quit):  Free trial of our weight loss program. Sign up today!\n"
     ]
    },
    {
     "name": "stdout",
     "output_type": "stream",
     "text": [
      "The message is: ham\n"
     ]
    },
    {
     "name": "stdin",
     "output_type": "stream",
     "text": [
      "Enter a message to classify as 'ham' or 'spam' (type 'exit' to quit):  You’ve been pre-approved for a credit card. Act fast!\n"
     ]
    },
    {
     "name": "stdout",
     "output_type": "stream",
     "text": [
      "The message is: ham\n"
     ]
    },
    {
     "name": "stdin",
     "output_type": "stream",
     "text": [
      "Enter a message to classify as 'ham' or 'spam' (type 'exit' to quit):  Get rich quick with this amazing opportunity\n"
     ]
    },
    {
     "name": "stdout",
     "output_type": "stream",
     "text": [
      "The message is: ham\n"
     ]
    },
    {
     "name": "stdin",
     "output_type": "stream",
     "text": [
      "Enter a message to classify as 'ham' or 'spam' (type 'exit' to quit):  Download this app to earn rewards instantly!\n"
     ]
    },
    {
     "name": "stdout",
     "output_type": "stream",
     "text": [
      "The message is: ham\n"
     ]
    }
   ],
   "source": [
    "import joblib\n",
    "\n",
    "# Load the saved model and vectorizer\n",
    "loaded_model = joblib.load('spam_classifier_model.pkl')\n",
    "loaded_vectorizer = joblib.load('vectorizer.pkl')\n",
    "\n",
    "def predict_message(message):\n",
    "    # Preprocess the input message\n",
    "    message_transformed = loaded_vectorizer.transform([message])\n",
    "\n",
    "    # Predict using the loaded model\n",
    "    prediction = loaded_model.predict(message_transformed)\n",
    "\n",
    "    # Convert the numerical prediction back to \"ham\" or \"spam\"\n",
    "    return \"ham\" if prediction == 0 else \"spam\"\n",
    "\n",
    "# Infinite loop to take user input and make predictions\n",
    "while True:\n",
    "    user_message = input(\"Enter a message to classify as 'ham' or 'spam' (type 'exit' to quit): \")\n",
    "    \n",
    "    if user_message.lower() == 'exit':\n",
    "        break\n",
    "    \n",
    "    print(f'The message is: {predict_message(user_message)}')\n"
   ]
  },
  {
   "cell_type": "code",
   "execution_count": null,
   "id": "a92f54b8-633a-47d3-ba57-19be974dcbb9",
   "metadata": {},
   "outputs": [],
   "source": []
  }
 ],
 "metadata": {
  "kernelspec": {
   "display_name": "Python 3 (ipykernel)",
   "language": "python",
   "name": "python3"
  },
  "language_info": {
   "codemirror_mode": {
    "name": "ipython",
    "version": 3
   },
   "file_extension": ".py",
   "mimetype": "text/x-python",
   "name": "python",
   "nbconvert_exporter": "python",
   "pygments_lexer": "ipython3",
   "version": "3.11.1"
  }
 },
 "nbformat": 4,
 "nbformat_minor": 5
}
